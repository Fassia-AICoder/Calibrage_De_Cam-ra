{
 "cells": [
  {
   "cell_type": "code",
   "execution_count": 2,
   "id": "7468e194-ea0c-4f63-832e-9fe684eaa9d0",
   "metadata": {},
   "outputs": [
    {
     "ename": "NameError",
     "evalue": "name 'cameraMatrix' is not defined",
     "output_type": "error",
     "traceback": [
      "\u001b[1;31m---------------------------------------------------------------------------\u001b[0m",
      "\u001b[1;31mNameError\u001b[0m                                 Traceback (most recent call last)",
      "Cell \u001b[1;32mIn[2], line 11\u001b[0m\n\u001b[0;32m      9\u001b[0m img \u001b[38;5;241m=\u001b[39m cv\u001b[38;5;241m.\u001b[39mimread(\u001b[38;5;124m'\u001b[39m\u001b[38;5;124mdistorsion.png\u001b[39m\u001b[38;5;124m'\u001b[39m)\n\u001b[0;32m     10\u001b[0m h,  w \u001b[38;5;241m=\u001b[39m img\u001b[38;5;241m.\u001b[39mshape[:\u001b[38;5;241m2\u001b[39m]\n\u001b[1;32m---> 11\u001b[0m newCameraMatrix, roi \u001b[38;5;241m=\u001b[39m cv\u001b[38;5;241m.\u001b[39mgetOptimalNewCameraMatrix(cameraMatrix, dist, (w,h), \u001b[38;5;241m1\u001b[39m, (w,h))\n\u001b[0;32m     13\u001b[0m \u001b[38;5;66;03m#utilisation de la fonction de non-distorsion de open-cv\u001b[39;00m\n\u001b[0;32m     14\u001b[0m dst \u001b[38;5;241m=\u001b[39m cv\u001b[38;5;241m.\u001b[39mundistort(img, cameraMatrix, dist, \u001b[38;5;28;01mNone\u001b[39;00m, newCameraMatrix)\n",
      "\u001b[1;31mNameError\u001b[0m: name 'cameraMatrix' is not defined"
     ]
    }
   ],
   "source": [
    "import numpy as np\n",
    "import cv2 as cv\n",
    "import glob\n",
    "import pickle\n",
    "\n",
    "\n"
   ]
  },
  {
   "cell_type": "code",
   "execution_count": null,
   "id": "ae9957d7-2521-4db6-9847-e1859327e747",
   "metadata": {},
   "outputs": [],
   "source": []
  }
 ],
 "metadata": {
  "kernelspec": {
   "display_name": "Python 3 (ipykernel)",
   "language": "python",
   "name": "python3"
  },
  "language_info": {
   "codemirror_mode": {
    "name": "ipython",
    "version": 3
   },
   "file_extension": ".py",
   "mimetype": "text/x-python",
   "name": "python",
   "nbconvert_exporter": "python",
   "pygments_lexer": "ipython3",
   "version": "3.11.7"
  }
 },
 "nbformat": 4,
 "nbformat_minor": 5
}

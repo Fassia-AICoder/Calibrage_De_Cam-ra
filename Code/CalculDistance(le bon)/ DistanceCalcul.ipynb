{
 "cells": [
  {
   "cell_type": "code",
   "execution_count": 4,
   "id": "d9fdb380-4bda-46d2-9b1b-0199539e8b7e",
   "metadata": {},
   "outputs": [
    {
     "data": {
      "image/png": "[encoded data removed]",
      "text/plain": [
       "<Figure size 640x480 with 1 Axes>"
      ]
     },
     "metadata": {},
     "output_type": "display_data"
    }
   ],
   "source": [
    "import matplotlib.pyplot as plt\n",
    "\n",
    "# Coordonnées des sommets du triangle rectangle\n",
    "C = (0, 4) # Sommet C\n",
    "A = (0, 0)  # Autre sommet sur l'axe x\n",
    "B = (3, 0)  # Autre sommet sur l'axe y\n",
    "\n",
    "# Création de la figure et des axes\n",
    "fig, ax = plt.subplots()\n",
    "\n",
    "# Dessin du triangle en utilisant les coordonnées des sommets\n",
    "triangle = plt.Polygon([A, B, C], closed=True, fill=None, edgecolor='r')\n",
    "\n",
    "# Ajout du triangle aux axes\n",
    "ax.add_patch(triangle)\n",
    "\n",
    "# Affichage des points A, B et C\n",
    "ax.plot(*B, 'bo')  # Point A en bleu\n",
    "ax.plot(*C, 'bo')  # Point B en bleu\n",
    "ax.plot(*A, 'bo')  # Point C en bleu\n",
    "\n",
    "# Annotation des sommets\n",
    "ax.text(A[0], A[1], 'A', fontsize=12, ha='left')\n",
    "ax.text(B[0], B[1], 'B', fontsize=12, ha='right')\n",
    "ax.text(C[0], C[1], 'C', fontsize=12, ha='right')\n",
    "\n",
    "# Configuration des axes pour une meilleure visualisation\n",
    "ax.set_xlim(-1, 4)\n",
    "ax.set_ylim(-1, 5)\n",
    "ax.set_aspect('equal', 'box')\n",
    "\n",
    "# Affichage de la grille\n",
    "plt.grid(True)\n",
    "\n",
    "# Affichage de la figure\n",
    "plt.show()\n"
   ]
  },
  {
   "cell_type": "code",
   "execution_count": null,
   "id": "2b4c2a54-cd45-4580-aa3f-22a61afa358b",
   "metadata": {},
   "outputs": [],
   "source": []
  }
 ],
 "metadata": {
  "kernelspec": {
   "display_name": "Python 3 (ipykernel)",
   "language": "python",
   "name": "python3"
  },
  "language_info": {
   "codemirror_mode": {
    "name": "ipython",
    "version": 3
   },
   "file_extension": ".py",
   "mimetype": "text/x-python",
   "name": "python",
   "nbconvert_exporter": "python",
   "pygments_lexer": "ipython3",
   "version": "3.11.7"
  }
 },
 "nbformat": 4,
 "nbformat_minor": 5
}

{
 "cells": [
  {
   "cell_type": "code",
   "execution_count": 2,
   "metadata": {
    "colab": {
     "base_uri": "https://localhost:8080/"
    },
    "executionInfo": {
     "elapsed": 383,
     "status": "ok",
     "timestamp": 1713031050429,
     "user": {
      "displayName": "Fassia Ouanre",
      "userId": "10173796793371755286"
     },
     "user_tz": 0
    },
    "id": "xz6Aeuv5Blr-",
    "outputId": "223be682-9434-4c4d-c0cf-e956bd7f515f"
   },
   "outputs": [],
   "source": [
    "#importation des bibliothèque\n",
    "import cv2\n",
    "#Connexion et création d'un objet de capture de la webcam en utilisant son identifiant\n",
    "cap = cv2.VideoCapture(0)\n",
    "\n",
    "num = 0\n",
    "\n",
    "while cap.isOpened():\n",
    "\n",
    "    succes, img = cap.read()\n",
    "\n",
    "    k = cv2.waitKey(5)\n",
    "\n",
    "    if k == 27:\n",
    "        break\n",
    "    elif k == ord('s'): # Appuis sur s pour capturer les images et echap pour quitter\n",
    "        cv2.imwrite('images/img' + str(num) + '.png', img)\n",
    "        print(\"image enregistrer!\")\n",
    "        num += 1\n",
    "\n",
    "    cv2.imshow('Img',img)\n",
    "\n",
    "#libération de la caméras\n",
    "cap.release()\n",
    "cv2.destroyAllWindows()\n",
    "\n",
    "\n",
    "\n"
   ]
  },
  {
   "cell_type": "code",
   "execution_count": null,
   "metadata": {},
   "outputs": [],
   "source": []
  }
 ],
 "metadata": {
  "colab": {
   "authorship_tag": "ABX9TyM+BoiZaGrSs7puMdXIdsPF",
   "provenance": []
  },
  "kernelspec": {
   "display_name": "Python 3 (ipykernel)",
   "language": "python",
   "name": "python3"
  },
  "language_info": {
   "codemirror_mode": {
    "name": "ipython",
    "version": 3
   },
   "file_extension": ".py",
   "mimetype": "text/x-python",
   "name": "python",
   "nbconvert_exporter": "python",
   "pygments_lexer": "ipython3",
   "version": "3.11.7"
  }
 },
 "nbformat": 4,
 "nbformat_minor": 4
}
